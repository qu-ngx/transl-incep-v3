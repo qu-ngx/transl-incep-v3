{
 "cells": [
  {
   "cell_type": "code",
   "execution_count": 6,
   "metadata": {},
   "outputs": [],
   "source": [
    "# Import all the libs\n",
    "import tensorflow as tf\n",
    "import numpy as np\n",
    "import matplotlib.pyplot as plt\n",
    "\n",
    "import tensorflow_hub as hub\n",
    "import tensorflow_datasets as tfds\n",
    "\n",
    "from tensorflow.keras import layers\n",
    "\n",
    "import logging\n",
    "logger = tf.get_logger()\n",
    "logger.setLevel(logging.ERROR)"
   ]
  },
  {
   "cell_type": "code",
   "execution_count": 12,
   "metadata": {},
   "outputs": [],
   "source": [
    "IMAGE_RES = 299 # Since input of Incep V3 is 299 x 299 \n",
    "\n",
    "(train_set, valid_set), dataset_info = tfds.load(\n",
    "    'tf_flowers',\n",
    "    split=['train[:70%]', 'train[70%:]'],\n",
    "    with_info=True,\n",
    "    as_supervised=True,\n",
    ")\n",
    "\n",
    "# Get number of classes and number of training examples / valid examples (labels)\n",
    "num_classes = dataset_info.features['label'].num_classes\n",
    "\n",
    "num_train_examples = 0\n",
    "num_valid_examples = 0\n",
    "\n",
    "for example in train_set:\n",
    "  num_train_examples += 1\n",
    "\n",
    "for example in valid_set:\n",
    "  num_valid_examples += 1"
   ]
  },
  {
   "cell_type": "code",
   "execution_count": 15,
   "metadata": {},
   "outputs": [],
   "source": [
    "\n",
    "# Functions to reformat the image\n",
    "def format_image(image, label):\n",
    "    image = tf.image.resize(image, (IMAGE_RES, IMAGE_RES))/255.0\n",
    "    return image, label"
   ]
  },
  {
   "cell_type": "code",
   "execution_count": 16,
   "metadata": {},
   "outputs": [],
   "source": [
    "\n",
    "BATCH_SIZE = 32\n",
    "train_batches = train_set.shuffle(num_train_examples).map(format_image).batch(BATCH_SIZE).prefetch(1)\n",
    "valid_batches = valid_set.map(format_image).batch(BATCH_SIZE).prefetch(1)"
   ]
  },
  {
   "cell_type": "code",
   "execution_count": 17,
   "metadata": {},
   "outputs": [],
   "source": [
    "# Feature extractor\n",
    "URL = \"https://tfhub.dev/google/tf2-preview/inception_v3/feature_vector/4\"\n",
    "feature_extractor = hub.KerasLayer(URL,\n",
    "  input_shape=(IMAGE_RES, IMAGE_RES, 3),\n",
    "  trainable=False)"
   ]
  },
  {
   "cell_type": "code",
   "execution_count": 18,
   "metadata": {},
   "outputs": [
    {
     "name": "stdout",
     "output_type": "stream",
     "text": [
      "Model: \"sequential\"\n",
      "_________________________________________________________________\n",
      " Layer (type)                Output Shape              Param #   \n",
      "=================================================================\n",
      " keras_layer (KerasLayer)    (None, 2048)              21802784  \n",
      "                                                                 \n",
      " dense (Dense)               (None, 5)                 10245     \n",
      "                                                                 \n",
      "=================================================================\n",
      "Total params: 21813029 (83.21 MB)\n",
      "Trainable params: 10245 (40.02 KB)\n",
      "Non-trainable params: 21802784 (83.17 MB)\n",
      "_________________________________________________________________\n",
      "Epoch 1/6\n",
      "81/81 [==============================] - 125s 2s/step - loss: 0.7322 - accuracy: 0.7396 - val_loss: 0.4543 - val_accuracy: 0.8629\n",
      "Epoch 2/6\n",
      "81/81 [==============================] - 129s 2s/step - loss: 0.3884 - accuracy: 0.8735 - val_loss: 0.3570 - val_accuracy: 0.8837\n",
      "Epoch 3/6\n",
      "81/81 [==============================] - 130s 2s/step - loss: 0.3055 - accuracy: 0.9035 - val_loss: 0.3340 - val_accuracy: 0.8883\n",
      "Epoch 4/6\n",
      "81/81 [==============================] - 131s 2s/step - loss: 0.2591 - accuracy: 0.9245 - val_loss: 0.3055 - val_accuracy: 0.8901\n",
      "Epoch 5/6\n",
      "81/81 [==============================] - 133s 2s/step - loss: 0.2254 - accuracy: 0.9311 - val_loss: 0.2886 - val_accuracy: 0.8992\n",
      "Epoch 6/6\n",
      "81/81 [==============================] - 134s 2s/step - loss: 0.2033 - accuracy: 0.9428 - val_loss: 0.2874 - val_accuracy: 0.9037\n"
     ]
    }
   ],
   "source": [
    "# Create compile and fit the model\n",
    "model_inception = tf.keras.Sequential([\n",
    "  feature_extractor,\n",
    "  tf.keras.layers.Dense(num_classes)\n",
    "])\n",
    "\n",
    "model_inception.summary()\n",
    "\n",
    "model_inception.compile(\n",
    "  optimizer='adam', \n",
    "  loss=tf.keras.losses.SparseCategoricalCrossentropy(from_logits=True),\n",
    "  metrics=['accuracy'])\n",
    "\n",
    "EPOCHS = 6\n",
    "\n",
    "history = model_inception.fit(train_batches,\n",
    "                    epochs=EPOCHS,\n",
    "                    validation_data=valid_batches)"
   ]
  }
 ],
 "metadata": {
  "kernelspec": {
   "display_name": "Python 3",
   "language": "python",
   "name": "python3"
  },
  "language_info": {
   "codemirror_mode": {
    "name": "ipython",
    "version": 3
   },
   "file_extension": ".py",
   "mimetype": "text/x-python",
   "name": "python",
   "nbconvert_exporter": "python",
   "pygments_lexer": "ipython3",
   "version": "3.11.5"
  },
  "orig_nbformat": 4
 },
 "nbformat": 4,
 "nbformat_minor": 2
}
